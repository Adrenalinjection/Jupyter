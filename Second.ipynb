{
 "cells": [
  {
   "cell_type": "markdown",
   "id": "cfded40a",
   "metadata": {},
   "source": [
    "# Последовательность Фибоначчи"
   ]
  },
  {
   "cell_type": "code",
   "execution_count": 1,
   "id": "7d11c7ee",
   "metadata": {},
   "outputs": [],
   "source": [
    "def fibonacci(seqence_lenght):\n",
    "    seqence = [0,1]\n",
    "    if seqence_lenght < 1:\n",
    "        print(\"Последовательность Фибоначчи не мобожет иметь длину, меньшую 1.\")\n",
    "        return\n",
    "    if 0 < seqence_lenght < 3:\n",
    "        return seqence[0:seqence_lenght]\n",
    "    for i in range(2,seqence_lenght):\n",
    "        seqence.append(seqence[i-1]+seqence[i-2])\n",
    "    return seqence    "
   ]
  },
  {
   "cell_type": "code",
   "execution_count": 2,
   "id": "8613e9f4",
   "metadata": {},
   "outputs": [
    {
     "data": {
      "text/plain": [
       "[0, 1, 1, 2, 3, 5, 8, 13, 21, 34, 55, 89]"
      ]
     },
     "execution_count": 2,
     "metadata": {},
     "output_type": "execute_result"
    }
   ],
   "source": [
    "fibonacci(12)"
   ]
  },
  {
   "cell_type": "code",
   "execution_count": 3,
   "id": "3ef411b3",
   "metadata": {},
   "outputs": [
    {
     "data": {
      "text/plain": [
       "[0, 1]"
      ]
     },
     "execution_count": 3,
     "metadata": {},
     "output_type": "execute_result"
    }
   ],
   "source": [
    "fibonacci(2)"
   ]
  },
  {
   "cell_type": "code",
   "execution_count": 4,
   "id": "401929bb",
   "metadata": {},
   "outputs": [
    {
     "name": "stdout",
     "output_type": "stream",
     "text": [
      "Последовательность Фибоначчи не мобожет иметь длину, меньшую 1.\n"
     ]
    }
   ],
   "source": [
    "fibonacci(0)"
   ]
  },
  {
   "cell_type": "code",
   "execution_count": null,
   "id": "bb044aae",
   "metadata": {},
   "outputs": [],
   "source": []
  }
 ],
 "metadata": {
  "kernelspec": {
   "display_name": "Python 3 (ipykernel)",
   "language": "python",
   "name": "python3"
  },
  "language_info": {
   "codemirror_mode": {
    "name": "ipython",
    "version": 3
   },
   "file_extension": ".py",
   "mimetype": "text/x-python",
   "name": "python",
   "nbconvert_exporter": "python",
   "pygments_lexer": "ipython3",
   "version": "3.9.12"
  }
 },
 "nbformat": 4,
 "nbformat_minor": 5
}
